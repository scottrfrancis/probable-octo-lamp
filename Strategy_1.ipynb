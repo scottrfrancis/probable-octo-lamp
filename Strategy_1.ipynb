{
 "cells": [
  {
   "cell_type": "markdown",
   "metadata": {},
   "source": [
    "# First Attempt at creating a technical analysis trading strategy for US Stocks\n",
    "\n",
    "Using:\n",
    "- Quandl for data source\n",
    "- TALib for metrics\n",
    "\n",
    "Based on J Li's blog - https://kylelix7.github.io/Trading-Strategy-Technical-Analysis-with-Python-TA-Lib/"
   ]
  },
  {
   "cell_type": "markdown",
   "metadata": {},
   "source": [
    "## Installation and Setup\n",
    "\n",
    "Generally only need to do this once per kernel\n",
    "\n",
    "**May need to run these commands manually in a terminal and/or split to get the packages in the right kernel**\n",
    "\n",
    "TODO:\n",
    "\n",
    "[ ] build a proper conda env"
   ]
  },
  {
   "cell_type": "markdown",
   "metadata": {},
   "source": [
    "### Install TA-Lib\n",
    "\n",
    "https://www.ta-lib.org/hdr_dw.html"
   ]
  },
  {
   "cell_type": "code",
   "execution_count": null,
   "metadata": {},
   "outputs": [],
   "source": [
    "%%bash\n",
    "\n",
    "wget http://prdownloads.sourceforge.net/ta-lib/ta-lib-0.4.0-src.tar.gz \\\n",
    "  && sudo tar -xzf ta-lib-0.4.0-src.tar.gz \\\n",
    "  && sudo rm ta-lib-0.4.0-src.tar.gz \\\n",
    "  && cd ta-lib/ \\\n",
    "  && sudo ./configure --prefix=/usr \\\n",
    "  && sudo make \\\n",
    "  && sudo make install \\\n",
    "  && cd ~ \\\n",
    "  && sudo rm -rf ta-lib/ \\\n",
    "  && pip install ta-lib"
   ]
  },
  {
   "cell_type": "code",
   "execution_count": null,
   "metadata": {
    "vscode": {
     "languageId": "shellscript"
    }
   },
   "outputs": [],
   "source": [
    "%%bash\n",
    "\n",
    "wget https://github.com/ta-lib/ta-lib/releases/download/v0.6.4/ta-lib_0.6.4_amd64.deb\n",
    "sudo dpkg -i ta-lib_0.6.4_amd64.deb\n"
   ]
  },
  {
   "cell_type": "code",
   "execution_count": null,
   "metadata": {
    "vscode": {
     "languageId": "shellscript"
    }
   },
   "outputs": [],
   "source": [
    "\n",
    "pip install ta-lib"
   ]
  },
  {
   "cell_type": "markdown",
   "metadata": {},
   "source": [
    "### Install other Packages\n"
   ]
  },
  {
   "cell_type": "code",
   "execution_count": null,
   "metadata": {},
   "outputs": [],
   "source": [
    "%%bash\n",
    "\n",
    "pip3 install panda\n",
    "pip3 install pandas_datareader\n",
    "pip3 install matplotlib\n",
    "pip3 install scipy\n",
    "pip3 install cython\n",
    "pip3 install quandl"
   ]
  },
  {
   "cell_type": "markdown",
   "metadata": {},
   "source": [
    "### Try AlphaVantage\n"
   ]
  },
  {
   "cell_type": "code",
   "execution_count": null,
   "metadata": {},
   "outputs": [],
   "source": [
    "import os\n",
    "\n",
    "# Load the .envrc file into the environment\n",
    "from dotenv import load_dotenv\n",
    "load_dotenv('.envrc')\n",
    "\n",
    "api_key = os.getenv(\"API_KEY\", None)\n",
    "if api_key is None:\n",
    "    raise ValueError(\"API_KEY not found in .envrc file. Please set it.\")\n"
   ]
  },
  {
   "cell_type": "markdown",
   "metadata": {},
   "source": [
    "## Approach\n",
    "\n",
    "For a given symbol, \n",
    "\n",
    "* download last 52 weeks of history (to includ 52 week hi and low) from Quandl\n",
    "* compute Bollinger Bands and RSI\n",
    "* Visualize\n",
    "\n",
    "Then,\n",
    "if a BUY or SELL signal is indicated, make that clear."
   ]
  },
  {
   "cell_type": "code",
   "execution_count": null,
   "metadata": {},
   "outputs": [],
   "source": [
    "from datetime import date, timedelta\n",
    "# data services\n",
    "import quandl\n",
    "\n",
    "# configuration\n",
    "\n",
    "symbol = 'V'\n",
    "data_source = 'av-daily'\n",
    "\n",
    "weeks_lookback = 52\n",
    "\n",
    "end_date = date.today()\n",
    "start_date = end_date - timedelta(weeks=weeks_lookback)\n"
   ]
  },
  {
   "cell_type": "markdown",
   "metadata": {},
   "source": [
    "## Step 1 - Download history for the symbol"
   ]
  },
  {
   "cell_type": "code",
   "execution_count": null,
   "metadata": {},
   "outputs": [],
   "source": [
    "import pandas_datareader.data as web\n",
    "\n",
    "def fetch_prices(symbol, data_source, start_date, end_date, api_key):\n",
    "    price = web.DataReader(name=symbol, data_source=data_source, start=start_date, end=end_date, api_key=api_key)\n",
    "    print(price.shape)\n",
    "\n",
    "    price.sort_index()\n",
    "    price = price.dropna()\n",
    "\n",
    "    # rename the column header with symbol name\n",
    "    price = price.rename(columns={'close': symbol})\n",
    "\n",
    "    return price\n",
    "\n",
    "price = fetch_prices(symbol, data_source, start_date, end_date, api_key)"
   ]
  },
  {
   "cell_type": "markdown",
   "metadata": {},
   "source": [
    "## Step 2 - Compute Bollinger Bands, RSI, 50 & 200 MA"
   ]
  },
  {
   "cell_type": "code",
   "execution_count": null,
   "metadata": {},
   "outputs": [],
   "source": [
    "from talib import RSI, BBANDS, SMA\n",
    "\n",
    "def decorate_with_studies(price):\n",
    "    close = price[symbol].values\n",
    "    up, mid, low = BBANDS(close, timeperiod=20, nbdevup=2, nbdevdn=2, matype=0)\n",
    "    rsi = RSI(close, timeperiod=14)\n",
    "\n",
    "    price['lower'] = low\n",
    "    price['mid'] = mid\n",
    "    price['upper'] = up\n",
    "\n",
    "    price['rsi'] = rsi\n",
    "\n",
    "\n",
    "    price['ma200'] = SMA(close, timeperiod=200)\n",
    "    price['ma50'] = SMA(close, timeperiod=50)\n",
    "\n",
    "    # derivatives of MA50\n",
    "    price['ma50-1'] = price['ma50'] - price['ma50'].shift(periods=1)\n",
    "\n",
    "decorate_with_studies(price)\n",
    "price.head()"
   ]
  },
  {
   "cell_type": "markdown",
   "metadata": {},
   "source": [
    "### Step 3 - Find BUY/SELL dates/recommendations\n",
    "\n",
    "Where is price outside the BB and how strong is RSI signal"
   ]
  },
  {
   "cell_type": "code",
   "execution_count": null,
   "metadata": {},
   "outputs": [],
   "source": [
    "import numpy as np\n",
    "\n",
    "def find_buy_crosses(price):\n",
    "    ma_buys = (price['ma50'] > price['ma200']) & (price['ma50-1'] > 0)\n",
    "    ma_buys = ma_buys ^ ma_buys.shift(periods=-1, fill_value=ma_buys[-1])\n",
    "    price['ma_buys'] = ma_buys\n",
    "    ma_buy_crosses = price[price['ma_buys']].index.values   \n",
    "\n",
    "    return ma_buy_crosses\n",
    "\n",
    "def find_sell_crosses(price):\n",
    "    ma_sells = (price['ma50'] < price['ma200']) & (price['ma50-1'] < 0)\n",
    "    ma_sells = ma_sells ^ ma_sells.shift(periods=-1, fill_value=ma_sells[-1])\n",
    "    price['ma_sells'] = ma_sells\n",
    "    ma_sell_crosses = price[price['ma_sells']].index.values\n",
    "\n",
    "    return ma_sell_crosses\n",
    "\n",
    "def find_bb_rsi_buys(price):\n",
    "    price_buys = price[symbol] < price['lower']\n",
    "    under_buys = price['rsi'] < 90\n",
    "    price['buys'] = (price_buys & under_buys) #| ma_buys\n",
    "    buy_dates = price[price['buys']].index.values\n",
    "\n",
    "    return buy_dates\n",
    "\n",
    "def find_bb_rsi_sells(price):\n",
    "    price_sells = price[symbol] > price['upper']\n",
    "    over_sells = price['rsi'] > 70\n",
    "    price['sells'] = (price_sells & over_sells) #| ma_sells\n",
    "    sell_dates = price[price['sells']].index.values\n",
    "\n",
    "    return sell_dates\n",
    "\n",
    "ma_buy_crosses = find_buy_crosses(price)\n",
    "ma_sell_crosses = find_sell_crosses(price)\n",
    "buy_dates = find_bb_rsi_buys(price)\n",
    "sell_dates = find_bb_rsi_sells(price)"
   ]
  },
  {
   "cell_type": "markdown",
   "metadata": {},
   "source": [
    "extract the latest buy and sell dates and make a text reccommendation"
   ]
  },
  {
   "cell_type": "code",
   "execution_count": null,
   "metadata": {},
   "outputs": [],
   "source": [
    "from datetime import datetime\n",
    "\n",
    "def make_recommendation(buy_dates, sell_dates, end_date, lookback=90):\n",
    "    recommendation = 'HOLD'\n",
    "    rec_color = 'blue'\n",
    "    recommendation_date = end_date\n",
    "    latest_valid_recommendation = datetime.combine(end_date - timedelta(days=lookback), datetime.min.time())\n",
    "\n",
    "    last_buy_date = datetime.strptime(buy_dates[-1], '%Y-%m-%d')\n",
    "    last_sell_date = datetime.strptime(sell_dates[-1], '%Y-%m-%d')\n",
    "\n",
    "    if (last_buy_date > last_sell_date) and (last_buy_date > latest_valid_recommendation):\n",
    "        recommendation = 'BUY'\n",
    "        rec_color = 'green'\n",
    "        recommendation_date = last_buy_date\n",
    "    elif (last_sell_date > last_buy_date) and (last_sell_date > latest_valid_recommendation):\n",
    "        recommendation = 'SELL'\n",
    "        rec_color = 'red'\n",
    "        recommendation_date = last_sell_date\n",
    "\n",
    "    recommendation = f\"As of {recommendation_date}, {recommendation}\" # {symbol}\"\n",
    "\n",
    "    return recommendation\n",
    "\n",
    "buys = np.append(ma_buy_crosses, buy_dates)\n",
    "buys.sort()\n",
    "sells = np.append(ma_sell_crosses, sell_dates)\n",
    "sells.sort()\n",
    "recommendation = make_recommendation(buys, sell_dates, end_date) + f\" for {symbol}\"\n",
    "print(recommendation)"
   ]
  },
  {
   "cell_type": "markdown",
   "metadata": {},
   "source": [
    "### Step 4 - Visualize all in one!"
   ]
  },
  {
   "cell_type": "code",
   "execution_count": null,
   "metadata": {},
   "outputs": [],
   "source": [
    "import matplotlib.pyplot as plt\n",
    "import numpy as np\n",
    "import os\n",
    "from math import ceil\n",
    "\n",
    "def make_plot(price, recommendation, symbol, rec_color):\n",
    "    ma_buy_crosses = price[price['ma_buys']].index.values   \n",
    "    ma_sell_crosses = price[price['ma_sells']].index.values\n",
    "    buy_dates = price[price['buys']].index.values\n",
    "    sell_dates = price[price['sells']].index.values\n",
    "\n",
    "    fig, axs = plt.subplots(2, 1, figsize=(16,9), gridspec_kw={'height_ratios': [3,1]})\n",
    "\n",
    "    xticks = [ 50*i for i in range( 0, ceil(len(price.index)/50)) ]\n",
    "\n",
    "    axs[0].set_title(recommendation, fontdict={'fontsize': 24, 'fontweight': 'bold', 'color': rec_color})\n",
    "\n",
    "    axs[0].plot(price.index, price[symbol])\n",
    "    axs[0].set_xticks(xticks)\n",
    "    axs[0].grid()\n",
    "    axs[0].fill_between(price.index, price['lower'], price['upper'], color='#ADCCFF', alpha=0.4)\n",
    "    axs[0].set_ylabel(symbol)\n",
    "\n",
    "    axs[0].plot(price.index, price['ma200'], color='gold')\n",
    "    axs[0].plot(price.index, price['ma50'], color='green')\n",
    "\n",
    "    for d in ma_buy_crosses:\n",
    "        axs[0].plot(d, price.loc[d]['ma50'], 'gP')\n",
    "    for d in ma_sell_crosses:\n",
    "        axs[0].plot(d, price.loc[d]['ma50'], 'rX')\n",
    "\n",
    "    for d in buy_dates:\n",
    "        axs[0].plot(d, price.loc[d][symbol], 'gP')\n",
    "    for d in sell_dates:\n",
    "        axs[0].plot(d, price.loc[d][symbol], 'rX')\n",
    "\n",
    "    axs[1].set_xticks(axs[0].get_xticks())\n",
    "    axs[1].set_xlabel('Date')\n",
    "    axs[1].grid()\n",
    "    axs[1].axhspan(70, 100, color='mistyrose')\n",
    "    axs[1].axhspan(0, 30, color='honeydew')\n",
    "\n",
    "    axs[1].set_ylabel('RSI/Volume')\n",
    "\n",
    "    axs[1].plot(price.index, price['rsi'])\n",
    "\n",
    "    ax1 = axs[1].twinx()\n",
    "    ax1.set_xticks(ax1.get_xticks())\n",
    "    ax1.bar(price.index, price['volume'], color='purple', alpha=0.2)\n",
    "\n",
    "    s = \"\"\n",
    "    for k,v in price.iloc[-1][[symbol, 'upper', 'lower', 'rsi','ma50', 'ma200']].items():\n",
    "        s = s + f\"{k}: {v:0.2f}\\n\"\n",
    "    yticks = axs[0].get_yticks()\n",
    "    axs[0].text(axs[0].get_xticks()[0], yticks[int(len(yticks)*0.65)], s)\n",
    "\n",
    "    save_file = os.path.join( \"analyses\", f\"{symbol}-{end_date}.pdf\")\n",
    "    plt.savefig(save_file)\n",
    "    plt.show()\n",
    "\n",
    "make_plot(price, recommendation, symbol, rec_color='green')  # Default color set to 'green'"
   ]
  },
  {
   "cell_type": "code",
   "execution_count": null,
   "metadata": {},
   "outputs": [],
   "source": []
  }
 ],
 "metadata": {
  "kernelspec": {
   "display_name": "base",
   "language": "python",
   "name": "base"
  },
  "language_info": {
   "codemirror_mode": {
    "name": "ipython",
    "version": 3
   },
   "file_extension": ".py",
   "mimetype": "text/x-python",
   "name": "python",
   "nbconvert_exporter": "python",
   "pygments_lexer": "ipython3",
   "version": "3.11.5"
  },
  "vscode": {
   "interpreter": {
    "hash": "916dbcbb3f70747c44a77c7bcd40155683ae19c65e1c03b4aa3499c5328201f1"
   }
  }
 },
 "nbformat": 4,
 "nbformat_minor": 4
}
